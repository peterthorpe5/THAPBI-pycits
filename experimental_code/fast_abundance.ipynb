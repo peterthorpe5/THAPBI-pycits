{
 "cells": [
  {
   "cell_type": "code",
   "execution_count": 1,
   "metadata": {
    "collapsed": true
   },
   "outputs": [],
   "source": [
    "from Bio import SeqIO\n",
    "from Bio.SeqRecord import SeqRecord\n",
    "import hashlib\n",
    "from collections import defaultdict"
   ]
  },
  {
   "cell_type": "code",
   "execution_count": 2,
   "metadata": {
    "collapsed": false
   },
   "outputs": [
    {
     "name": "stdout",
     "output_type": "stream",
     "text": [
      "[SeqRecord(seq=Seq('GGAAGGATCATTACCACACCTAAAAAACTTTTCACGTGAACCGTATCAACCCTT...CAT', SingleLetterAlphabet()), id='M01157:20:000000000-D07KA:1:1101:16943:1488', name='M01157:20:000000000-D07KA:1:1101:16943:1488', description='M01157:20:000000000-D07KA:1:1101:16943:1488 1:N:0:95', dbxrefs=[]), SeqRecord(seq=Seq('ATGATGATG', SingleLetterAlphabet()), id='DupliAbundance2', name='DupliAbundance2', description='DupliAbundance2', dbxrefs=[]), SeqRecord(seq=Seq('ATGATGATG', SingleLetterAlphabet()), id='DupliAB', name='DupliAB', description='DupliAB', dbxrefs=[]), SeqRecord(seq=Seq('ATGATGATGA', SingleLetterAlphabet()), id='singleton', name='singleton', description='singleton', dbxrefs=[]), SeqRecord(seq=Seq('TGATGATG', SingleLetterAlphabet()), id='singleton', name='singleton', description='singleton', dbxrefs=[]), SeqRecord(seq=Seq('TGATGATGTTTTTT', SingleLetterAlphabet()), id='doubletA', name='doubletA', description='doubletA', dbxrefs=[]), SeqRecord(seq=Seq('TGATGATGTTTTTT', SingleLetterAlphabet()), id='doubletAB', name='doubletAB', description='doubletAB', dbxrefs=[]), SeqRecord(seq=Seq('TGATGATGTTTTTTAAAAAA', SingleLetterAlphabet()), id='TripletA', name='TripletA', description='TripletA', dbxrefs=[]), SeqRecord(seq=Seq('TGATGATGTTTTTTAAAAAAT', SingleLetterAlphabet()), id='SingletonNestedInTriplet', name='SingletonNestedInTriplet', description='SingletonNestedInTriplet', dbxrefs=[]), SeqRecord(seq=Seq('TGATGATGTTTTTTAAAAAA', SingleLetterAlphabet()), id='TripletAB', name='TripletAB', description='TripletAB', dbxrefs=[]), SeqRecord(seq=Seq('TGATGATGTTTTTTAAAAAA', SingleLetterAlphabet()), id='TripletAC', name='TripletAC', description='TripletAC', dbxrefs=[]), SeqRecord(seq=Seq('GGGGGTCTTGCTTTTTTTGCGAGCCCTATCATGGCGAATGTTTGGACTTCGGTCTGGGCT', SingleLetterAlphabet()), id='Quartet_1', name='Quartet_1', description='Quartet_1', dbxrefs=[]), SeqRecord(seq=Seq('GGGGGTCTTGCTTTTTTTGCGAGCCCTATCATGGCGAATGTTTGGACTTCGGTCTGGGCT', SingleLetterAlphabet()), id='Quartet_2', name='Quartet_2', description='Quartet_2', dbxrefs=[]), SeqRecord(seq=Seq('GGGGGTCTTGCTTTTTTTGCGAGCCCTATCATGGCGAATGTTTGGACTTCGGTCTGGGCT', SingleLetterAlphabet()), id='Quartet_3', name='Quartet_3', description='Quartet_3', dbxrefs=[]), SeqRecord(seq=Seq('GGGGGTCTTGCTTTTTTTGCGAGCCCTATCATGGCGAATGTTTGGACTTCGGTCTGGGCT', SingleLetterAlphabet()), id='Quartet_4', name='Quartet_4', description='Quartet_4', dbxrefs=[])]\n"
     ]
    }
   ],
   "source": [
    "seqlist = list(SeqIO.parse('dedup_test.fasta', 'fasta'))\n",
    "print(seqlist)"
   ]
  },
  {
   "cell_type": "code",
   "execution_count": 3,
   "metadata": {
    "collapsed": false
   },
   "outputs": [
    {
     "name": "stdout",
     "output_type": "stream",
     "text": [
      "M01157:20:000000000-D07KA:1:1101:16943:1488 a9d736e0b64dc1eec21a881446210278\n",
      "DupliAbundance2 c0b61c500a7ed84b735b2481734378a4\n",
      "DupliAB c0b61c500a7ed84b735b2481734378a4\n",
      "singleton 1cde55f05f3353288f527ebf82ed7ff3\n",
      "singleton 7dea5e0207ba6e3e3b6907a5e80167ac\n",
      "doubletA 447a8b3738df4b18c31cb0defd0c0d46\n",
      "doubletAB 447a8b3738df4b18c31cb0defd0c0d46\n",
      "TripletA f8c88ae55c6e2f5316dc09a7b5834616\n",
      "SingletonNestedInTriplet 040711de850e74890e9eb1da8970fc7a\n",
      "TripletAB f8c88ae55c6e2f5316dc09a7b5834616\n",
      "TripletAC f8c88ae55c6e2f5316dc09a7b5834616\n",
      "Quartet_1 601093ec2184835002d2929728936859\n",
      "Quartet_2 601093ec2184835002d2929728936859\n",
      "Quartet_3 601093ec2184835002d2929728936859\n",
      "Quartet_4 601093ec2184835002d2929728936859\n"
     ]
    }
   ],
   "source": [
    "for seq in seqlist:\n",
    "    print(seq.id, hashlib.md5(str(seq.seq).encode()).hexdigest())"
   ]
  },
  {
   "cell_type": "code",
   "execution_count": 4,
   "metadata": {
    "collapsed": false
   },
   "outputs": [
    {
     "name": "stdout",
     "output_type": "stream",
     "text": [
      "['a9d736e0b64dc1eec21a881446210278', 'c0b61c500a7ed84b735b2481734378a4', 'c0b61c500a7ed84b735b2481734378a4', '1cde55f05f3353288f527ebf82ed7ff3', '7dea5e0207ba6e3e3b6907a5e80167ac', '447a8b3738df4b18c31cb0defd0c0d46', '447a8b3738df4b18c31cb0defd0c0d46', 'f8c88ae55c6e2f5316dc09a7b5834616', '040711de850e74890e9eb1da8970fc7a', 'f8c88ae55c6e2f5316dc09a7b5834616', 'f8c88ae55c6e2f5316dc09a7b5834616', '601093ec2184835002d2929728936859', '601093ec2184835002d2929728936859', '601093ec2184835002d2929728936859', '601093ec2184835002d2929728936859']\n"
     ]
    }
   ],
   "source": [
    "hashlist = [hashlib.md5(str(seq.seq).encode()).hexdigest() for seq in seqlist]\n",
    "print(hashlist)"
   ]
  },
  {
   "cell_type": "code",
   "execution_count": 5,
   "metadata": {
    "collapsed": false
   },
   "outputs": [
    {
     "name": "stdout",
     "output_type": "stream",
     "text": [
      "{'f8c88ae55c6e2f5316dc09a7b5834616', '447a8b3738df4b18c31cb0defd0c0d46', 'a9d736e0b64dc1eec21a881446210278', '7dea5e0207ba6e3e3b6907a5e80167ac', '601093ec2184835002d2929728936859', '040711de850e74890e9eb1da8970fc7a', 'c0b61c500a7ed84b735b2481734378a4', '1cde55f05f3353288f527ebf82ed7ff3'} 8\n"
     ]
    }
   ],
   "source": [
    "unique = set(hashlist)\n",
    "print(unique, len(unique))"
   ]
  },
  {
   "cell_type": "code",
   "execution_count": 11,
   "metadata": {
    "collapsed": false
   },
   "outputs": [
    {
     "name": "stdout",
     "output_type": "stream",
     "text": [
      "M01157:20:000000000-D07KA:1:1101:16943:1488:\t\t\ta9d736e0b64dc1eec21a881446210278\n",
      "DupliAbundance2:\t\t\tc0b61c500a7ed84b735b2481734378a4\n",
      "DupliAB:\t\t\tc0b61c500a7ed84b735b2481734378a4\n",
      "singleton:\t\t\t1cde55f05f3353288f527ebf82ed7ff3\n",
      "singleton:\t\t\t7dea5e0207ba6e3e3b6907a5e80167ac\n",
      "doubletA:\t\t\t447a8b3738df4b18c31cb0defd0c0d46\n",
      "doubletAB:\t\t\t447a8b3738df4b18c31cb0defd0c0d46\n",
      "TripletA:\t\t\tf8c88ae55c6e2f5316dc09a7b5834616\n",
      "SingletonNestedInTriplet:\t\t\t040711de850e74890e9eb1da8970fc7a\n",
      "TripletAB:\t\t\tf8c88ae55c6e2f5316dc09a7b5834616\n",
      "TripletAC:\t\t\tf8c88ae55c6e2f5316dc09a7b5834616\n",
      "Quartet_1:\t\t\t601093ec2184835002d2929728936859\n",
      "Quartet_2:\t\t\t601093ec2184835002d2929728936859\n",
      "Quartet_3:\t\t\t601093ec2184835002d2929728936859\n",
      "Quartet_4:\t\t\t601093ec2184835002d2929728936859\n"
     ]
    }
   ],
   "source": [
    "abundance = defaultdict(int)\n",
    "hash_to_seq = defaultdict(str)\n",
    "hash_to_name = defaultdict(str)\n",
    "for seq in seqlist:\n",
    "    seqhash = hashlib.md5(str(seq.seq).encode()).hexdigest()\n",
    "    abundance[seqhash] += 1\n",
    "    hash_to_seq[seqhash] = seq.seq\n",
    "    hash_to_name[seqhash] = seq.id\n",
    "    print(\"{0}:\\t\\t\\t{1}\".format(seq.id, seqhash))"
   ]
  },
  {
   "cell_type": "code",
   "execution_count": 7,
   "metadata": {
    "collapsed": false
   },
   "outputs": [
    {
     "data": {
      "text/plain": [
       "defaultdict(int,\n",
       "            {'040711de850e74890e9eb1da8970fc7a': 1,\n",
       "             '1cde55f05f3353288f527ebf82ed7ff3': 1,\n",
       "             '447a8b3738df4b18c31cb0defd0c0d46': 2,\n",
       "             '601093ec2184835002d2929728936859': 4,\n",
       "             '7dea5e0207ba6e3e3b6907a5e80167ac': 1,\n",
       "             'a9d736e0b64dc1eec21a881446210278': 1,\n",
       "             'c0b61c500a7ed84b735b2481734378a4': 2,\n",
       "             'f8c88ae55c6e2f5316dc09a7b5834616': 3})"
      ]
     },
     "execution_count": 7,
     "metadata": {},
     "output_type": "execute_result"
    }
   ],
   "source": [
    "abundance"
   ]
  },
  {
   "cell_type": "code",
   "execution_count": 8,
   "metadata": {
    "collapsed": false
   },
   "outputs": [
    {
     "data": {
      "text/plain": [
       "defaultdict(str,\n",
       "            {'040711de850e74890e9eb1da8970fc7a': Seq('TGATGATGTTTTTTAAAAAAT', SingleLetterAlphabet()),\n",
       "             '1cde55f05f3353288f527ebf82ed7ff3': Seq('ATGATGATGA', SingleLetterAlphabet()),\n",
       "             '447a8b3738df4b18c31cb0defd0c0d46': Seq('TGATGATGTTTTTT', SingleLetterAlphabet()),\n",
       "             '601093ec2184835002d2929728936859': Seq('GGGGGTCTTGCTTTTTTTGCGAGCCCTATCATGGCGAATGTTTGGACTTCGGTCTGGGCT', SingleLetterAlphabet()),\n",
       "             '7dea5e0207ba6e3e3b6907a5e80167ac': Seq('TGATGATG', SingleLetterAlphabet()),\n",
       "             'a9d736e0b64dc1eec21a881446210278': Seq('GGAAGGATCATTACCACACCTAAAAAACTTTTCACGTGAACCGTATCAACCCTT...CAT', SingleLetterAlphabet()),\n",
       "             'c0b61c500a7ed84b735b2481734378a4': Seq('ATGATGATG', SingleLetterAlphabet()),\n",
       "             'f8c88ae55c6e2f5316dc09a7b5834616': Seq('TGATGATGTTTTTTAAAAAA', SingleLetterAlphabet())})"
      ]
     },
     "execution_count": 8,
     "metadata": {},
     "output_type": "execute_result"
    }
   ],
   "source": [
    "hash_to_seq"
   ]
  },
  {
   "cell_type": "code",
   "execution_count": 12,
   "metadata": {
    "collapsed": false
   },
   "outputs": [
    {
     "name": "stdout",
     "output_type": "stream",
     "text": [
      "ID: 7dea5e0207ba6e3e3b6907a5e80167ac_1\n",
      "Name: singleton\n",
      "Description: <unknown description>\n",
      "Number of features: 0\n",
      "Seq('TGATGATG', SingleLetterAlphabet())\n",
      "ID: 601093ec2184835002d2929728936859_4\n",
      "Name: Quartet_4\n",
      "Description: <unknown description>\n",
      "Number of features: 0\n",
      "Seq('GGGGGTCTTGCTTTTTTTGCGAGCCCTATCATGGCGAATGTTTGGACTTCGGTCTGGGCT', SingleLetterAlphabet())\n",
      "ID: f8c88ae55c6e2f5316dc09a7b5834616_3\n",
      "Name: TripletAC\n",
      "Description: <unknown description>\n",
      "Number of features: 0\n",
      "Seq('TGATGATGTTTTTTAAAAAA', SingleLetterAlphabet())\n",
      "ID: c0b61c500a7ed84b735b2481734378a4_2\n",
      "Name: DupliAB\n",
      "Description: <unknown description>\n",
      "Number of features: 0\n",
      "Seq('ATGATGATG', SingleLetterAlphabet())\n",
      "ID: 1cde55f05f3353288f527ebf82ed7ff3_1\n",
      "Name: singleton\n",
      "Description: <unknown description>\n",
      "Number of features: 0\n",
      "Seq('ATGATGATGA', SingleLetterAlphabet())\n",
      "ID: 040711de850e74890e9eb1da8970fc7a_1\n",
      "Name: SingletonNestedInTriplet\n",
      "Description: <unknown description>\n",
      "Number of features: 0\n",
      "Seq('TGATGATGTTTTTTAAAAAAT', SingleLetterAlphabet())\n",
      "ID: a9d736e0b64dc1eec21a881446210278_1\n",
      "Name: M01157:20:000000000-D07KA:1:1101:16943:1488\n",
      "Description: <unknown description>\n",
      "Number of features: 0\n",
      "Seq('GGAAGGATCATTACCACACCTAAAAAACTTTTCACGTGAACCGTATCAACCCTT...CAT', SingleLetterAlphabet())\n",
      "ID: 447a8b3738df4b18c31cb0defd0c0d46_2\n",
      "Name: doubletAB\n",
      "Description: <unknown description>\n",
      "Number of features: 0\n",
      "Seq('TGATGATGTTTTTT', SingleLetterAlphabet())\n"
     ]
    }
   ],
   "source": [
    "for k, v in abundance.items():\n",
    "    seqname = \"{0}_{1}\".format(k,v)\n",
    "    seqrecord = SeqRecord(id=seqname, name=hash_to_name[k], seq=hash_to_seq[k])\n",
    "    print(seqrecord)"
   ]
  },
  {
   "cell_type": "code",
   "execution_count": null,
   "metadata": {
    "collapsed": true
   },
   "outputs": [],
   "source": []
  }
 ],
 "metadata": {
  "kernelspec": {
   "display_name": "Python 3",
   "language": "python",
   "name": "python3"
  },
  "language_info": {
   "codemirror_mode": {
    "name": "ipython",
    "version": 3
   },
   "file_extension": ".py",
   "mimetype": "text/x-python",
   "name": "python",
   "nbconvert_exporter": "python",
   "pygments_lexer": "ipython3",
   "version": "3.5.2"
  }
 },
 "nbformat": 4,
 "nbformat_minor": 0
}
